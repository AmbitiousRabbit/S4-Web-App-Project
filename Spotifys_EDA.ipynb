{
 "cells": [
  {
   "cell_type": "markdown",
   "metadata": {},
   "source": [
    "# Introduction\n",
    "\n",
    "#### Objective & Scope\n",
    "* Share Insights and Findings\n",
    "* Collect, Clean and Analyze the 2023 Spotify Dataset\n",
    "* Curate and Develop a Web Application Based on the Dataset\n",
    "* Deploy the Application to Render\n",
    "\n",
    "#### Initial Questions:\n",
    "* Can we identify variables of interest that can be used to predict whether or not a song will make it the top 50, top 100, top 500? \n",
    "* Are their commmonalities between artists and their \"music magic\" (i.e. energy and liveness) despite the year the track was released that keeps the track relevant?\n",
    "* According to the dataset, is there an apparent formula to making a good, catchy song?\n",
    "* Which top 10, 5, 3 artists has the most songs produced?\n",
    "* Do these top artists have a similiar music magic formula that's allowing them to be in the top charts?"
   ]
  },
  {
   "cell_type": "code",
   "execution_count": null,
   "metadata": {},
   "outputs": [],
   "source": [
    "#Libraries are imported here\n",
    "import pandas as pd\n",
    "import streamlit as st\n",
    "import numpy as np\n",
    "import plotly.express as px\n",
    "import altair as alt"
   ]
  },
  {
   "cell_type": "code",
   "execution_count": null,
   "metadata": {},
   "outputs": [],
   "source": [
    "#The data loads here\n",
    "df = pd.read_csv(\"spotify-2023.csv\", encoding='latin1')"
   ]
  },
  {
   "cell_type": "code",
   "execution_count": null,
   "metadata": {},
   "outputs": [],
   "source": [
    "#Before locating NaN/Missing values\n",
    "df.info()"
   ]
  },
  {
   "cell_type": "code",
   "execution_count": null,
   "metadata": {},
   "outputs": [],
   "source": [
    "#After locating NaN/Missing values\n",
    "df.isnull().sum()"
   ]
  },
  {
   "cell_type": "code",
   "execution_count": null,
   "metadata": {},
   "outputs": [],
   "source": [
    "# After discovering the nan values, I decided to remove the missing value rows in order to \n",
    "# ensure across the board that all artists had a value in each of the columns and\n",
    "# therefore, the data's shape was uniform\n",
    "df.dropna(inplace=True)\n",
    "df.info()"
   ]
  },
  {
   "cell_type": "code",
   "execution_count": null,
   "metadata": {},
   "outputs": [],
   "source": [
    "df.head()"
   ]
  },
  {
   "cell_type": "code",
   "execution_count": null,
   "metadata": {},
   "outputs": [],
   "source": [
    "print(f\"There are {df['artist(s)_name'].nunique()} artists and or groups who reached Spotify's Most Streams Songs on their platform in 2023.\")"
   ]
  },
  {
   "cell_type": "code",
   "execution_count": null,
   "metadata": {},
   "outputs": [],
   "source": [
    "num_of_artists = df['artist(s)_name'].value_counts()\n",
    "num_of_artists"
   ]
  },
  {
   "cell_type": "code",
   "execution_count": null,
   "metadata": {},
   "outputs": [],
   "source": [
    "num_of_artists.head(10)"
   ]
  },
  {
   "cell_type": "markdown",
   "metadata": {},
   "source": [
    "There are 8 solo artists and 2 (Kpop & Duo) groups that had between 7-29 popular songs charting on Spotify."
   ]
  },
  {
   "cell_type": "code",
   "execution_count": null,
   "metadata": {},
   "outputs": [],
   "source": [
    "df.duplicated().sum()"
   ]
  },
  {
   "cell_type": "code",
   "execution_count": null,
   "metadata": {},
   "outputs": [],
   "source": [
    "print(f\"Here are the {df['key'].nunique()} unique keys popular songs were played in: \\n {df['key'].unique()} \")"
   ]
  },
  {
   "cell_type": "code",
   "execution_count": null,
   "metadata": {},
   "outputs": [],
   "source": [
    "print(f\"Here are all the {df['released_year'].sort_values().nunique()} distinct years a song was released in yet was relevant all of 2023: \\n {df['released_year'].sort_values().unique()} \")"
   ]
  },
  {
   "cell_type": "code",
   "execution_count": null,
   "metadata": {},
   "outputs": [],
   "source": [
    "fig = px.histogram(df, x='streams', y='speechiness_%', histfunc='avg')\n",
    "fig.show()"
   ]
  },
  {
   "cell_type": "code",
   "execution_count": null,
   "metadata": {},
   "outputs": [],
   "source": [
    "fig = px.histogram(df, x='streams', y='valence_%', histfunc='avg')\n",
    "fig.show()"
   ]
  },
  {
   "cell_type": "code",
   "execution_count": null,
   "metadata": {},
   "outputs": [],
   "source": [
    "fig = px.scatter_matrix(df, dimensions=[\"energy_%\", \"bpm\", \"valence_%\"])\n",
    "fig.show()"
   ]
  },
  {
   "cell_type": "code",
   "execution_count": null,
   "metadata": {},
   "outputs": [],
   "source": [
    "fig = px.scatter_matrix(df, dimensions=[\"danceability_%\", \"bpm\", \"valence_%\"])\n",
    "fig.show()"
   ]
  },
  {
   "cell_type": "code",
   "execution_count": null,
   "metadata": {},
   "outputs": [],
   "source": [
    "# I could add something that agg values together but the idea hasn't hit just yet --\n",
    "# but I must thing in relation to the objectives from above, what gets sogns to top the charts?\n",
    "\n",
    "df.describe()"
   ]
  }
 ],
 "metadata": {
  "kernelspec": {
   "display_name": "Python 3",
   "language": "python",
   "name": "python3"
  },
  "language_info": {
   "codemirror_mode": {
    "name": "ipython",
    "version": 3
   },
   "file_extension": ".py",
   "mimetype": "text/x-python",
   "name": "python",
   "nbconvert_exporter": "python",
   "pygments_lexer": "ipython3",
   "version": "3.10.13"
  }
 },
 "nbformat": 4,
 "nbformat_minor": 2
}
